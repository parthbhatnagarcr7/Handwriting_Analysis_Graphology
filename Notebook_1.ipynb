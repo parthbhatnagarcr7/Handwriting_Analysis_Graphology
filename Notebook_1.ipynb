{
 "cells": [
  {
   "cell_type": "code",
   "execution_count": null,
   "id": "186ac312-178c-45be-ae1f-d729f18cd755",
   "metadata": {},
   "outputs": [
    {
     "name": "stdout",
     "output_type": "stream",
     "text": [
      "\n",
      "************************************************\n",
      "Slant determined to be straight.\n"
     ]
    },
    {
     "name": "stdin",
     "output_type": "stream",
     "text": [
      "Press enter if okay, else enter c to change:  \n"
     ]
    },
    {
     "name": "stdout",
     "output_type": "stream",
     "text": [
      "No Change!\n",
      "************************************************\n",
      "\n",
      "1 000-0.png 0.06523157208088715%\n",
      "2 000-1.png 0.1304631441617743%\n",
      "\n",
      "************************************************\n",
      "Slant determined to be straight.\n"
     ]
    },
    {
     "name": "stdin",
     "output_type": "stream",
     "text": [
      "Press enter if okay, else enter c to change:  \n"
     ]
    },
    {
     "name": "stdout",
     "output_type": "stream",
     "text": [
      "No Change!\n",
      "************************************************\n",
      "\n",
      "3 000-10.png 0.19569471624266144%\n",
      "\n",
      "************************************************\n",
      "Slant determined to be irregular.\n"
     ]
    },
    {
     "name": "stdin",
     "output_type": "stream",
     "text": [
      "Press enter if okay, else enter c to change:  \n"
     ]
    },
    {
     "name": "stdout",
     "output_type": "stream",
     "text": [
      "No Change!\n",
      "************************************************\n",
      "\n",
      "4 000-11.png 0.2609262883235486%\n",
      "5 000-12.png 0.32615786040443573%\n",
      "\n",
      "************************************************\n",
      "Slant determined to be straight.\n"
     ]
    },
    {
     "name": "stdin",
     "output_type": "stream",
     "text": [
      "Press enter if okay, else enter c to change:  \n"
     ]
    },
    {
     "name": "stdout",
     "output_type": "stream",
     "text": [
      "No Change!\n",
      "************************************************\n",
      "\n",
      "6 000-13.png 0.3913894324853229%\n",
      "7 000-14.png 0.45662100456621%\n",
      "\n",
      "************************************************\n",
      "Slant determined to be irregular.\n"
     ]
    },
    {
     "name": "stdin",
     "output_type": "stream",
     "text": [
      "Press enter if okay, else enter c to change:  \n"
     ]
    },
    {
     "name": "stdout",
     "output_type": "stream",
     "text": [
      "No Change!\n",
      "************************************************\n",
      "\n",
      "8 000-15.png 0.5218525766470972%\n",
      "9 000-16.png 0.5870841487279843%\n",
      "10 000-17.png 0.6523157208088715%\n",
      "11 000-18.png 0.7175472928897586%\n",
      "\n",
      "************************************************\n",
      "Slant determined to be straight.\n"
     ]
    },
    {
     "name": "stdin",
     "output_type": "stream",
     "text": [
      "Press enter if okay, else enter c to change:  \n"
     ]
    },
    {
     "name": "stdout",
     "output_type": "stream",
     "text": [
      "No Change!\n",
      "************************************************\n",
      "\n",
      "12 000-19.png 0.7827788649706457%\n",
      "\n",
      "************************************************\n",
      "Slant determined to be straight.\n"
     ]
    },
    {
     "name": "stdin",
     "output_type": "stream",
     "text": [
      "Press enter if okay, else enter c to change:  \n"
     ]
    },
    {
     "name": "stdout",
     "output_type": "stream",
     "text": [
      "No Change!\n",
      "************************************************\n",
      "\n",
      "13 000-2.png 0.8480104370515329%\n",
      "14 000-20.png 0.91324200913242%\n",
      "\n",
      "************************************************\n",
      "Slant determined to be straight.\n"
     ]
    },
    {
     "name": "stdin",
     "output_type": "stream",
     "text": [
      "Press enter if okay, else enter c to change:  \n"
     ]
    },
    {
     "name": "stdout",
     "output_type": "stream",
     "text": [
      "No Change!\n",
      "************************************************\n",
      "\n",
      "15 000-21.png 0.9784735812133072%\n",
      "\n",
      "************************************************\n",
      "Slant determined to be straight.\n"
     ]
    },
    {
     "name": "stdin",
     "output_type": "stream",
     "text": [
      "Press enter if okay, else enter c to change:  \n"
     ]
    },
    {
     "name": "stdout",
     "output_type": "stream",
     "text": [
      "No Change!\n",
      "************************************************\n",
      "\n",
      "16 000-22.png 1.0437051532941943%\n",
      "\n",
      "************************************************\n",
      "Slant determined to be straight.\n"
     ]
    },
    {
     "name": "stdin",
     "output_type": "stream",
     "text": [
      "Press enter if okay, else enter c to change:  \n"
     ]
    },
    {
     "name": "stdout",
     "output_type": "stream",
     "text": [
      "No Change!\n",
      "************************************************\n",
      "\n",
      "17 000-23.png 1.1089367253750815%\n",
      "\n",
      "************************************************\n",
      "Slant determined to be straight.\n"
     ]
    },
    {
     "name": "stdin",
     "output_type": "stream",
     "text": [
      "Press enter if okay, else enter c to change:  \n"
     ]
    },
    {
     "name": "stdout",
     "output_type": "stream",
     "text": [
      "No Change!\n",
      "************************************************\n",
      "\n",
      "18 000-24.png 1.1741682974559686%\n",
      "19 000-25.png 1.2393998695368558%\n",
      "20 000-26.png 1.304631441617743%\n",
      "\n",
      "************************************************\n",
      "Slant determined to be straight.\n"
     ]
    },
    {
     "name": "stdin",
     "output_type": "stream",
     "text": [
      "Press enter if okay, else enter c to change:  \n"
     ]
    },
    {
     "name": "stdout",
     "output_type": "stream",
     "text": [
      "No Change!\n",
      "************************************************\n",
      "\n",
      "21 000-27.png 1.36986301369863%\n",
      "22 000-28.png 1.4350945857795172%\n",
      "\n",
      "************************************************\n",
      "Slant determined to be irregular.\n"
     ]
    },
    {
     "name": "stdin",
     "output_type": "stream",
     "text": [
      "Press enter if okay, else enter c to change:  \n"
     ]
    },
    {
     "name": "stdout",
     "output_type": "stream",
     "text": [
      "No Change!\n",
      "************************************************\n",
      "\n",
      "23 000-29.png 1.5003261578604044%\n",
      "24 000-3.png 1.5655577299412915%\n",
      "25 000-30.png 1.6307893020221786%\n",
      "\n",
      "************************************************\n",
      "Slant determined to be straight.\n"
     ]
    },
    {
     "name": "stdin",
     "output_type": "stream",
     "text": [
      "Press enter if okay, else enter c to change:  \n"
     ]
    },
    {
     "name": "stdout",
     "output_type": "stream",
     "text": [
      "No Change!\n",
      "************************************************\n",
      "\n",
      "26 000-31.png 1.6960208741030658%\n",
      "27 000-32.png 1.761252446183953%\n",
      "28 000-33.png 1.82648401826484%\n",
      "29 000-34.png 1.8917155903457272%\n",
      "30 000-35.png 1.9569471624266144%\n",
      "31 000-36.png 2.0221787345075017%\n",
      "32 000-37.png 2.0874103065883887%\n",
      "\n",
      "************************************************\n",
      "Slant determined to be straight.\n"
     ]
    },
    {
     "name": "stdin",
     "output_type": "stream",
     "text": [
      "Press enter if okay, else enter c to change:  \n"
     ]
    },
    {
     "name": "stdout",
     "output_type": "stream",
     "text": [
      "No Change!\n",
      "************************************************\n",
      "\n",
      "33 000-38.png 2.152641878669276%\n",
      "34 000-39.png 2.217873450750163%\n",
      "35 000-4.png 2.2831050228310503%\n",
      "36 000-40.png 2.3483365949119372%\n",
      "37 000-41.png 2.4135681669928246%\n",
      "38 000-42.png 2.4787997390737115%\n",
      "39 000-43.png 2.544031311154599%\n",
      "40 000-44.png 2.609262883235486%\n",
      "41 000-45.png 2.674494455316373%\n",
      "42 000-46.png 2.73972602739726%\n",
      "43 000-47.png 2.8049575994781475%\n",
      "44 000-48.png 2.8701891715590344%\n",
      "45 000-49.png 2.935420743639922%\n",
      "\n",
      "************************************************\n",
      "Slant determined to be straight.\n"
     ]
    },
    {
     "name": "stdin",
     "output_type": "stream",
     "text": [
      "Press enter if okay, else enter c to change:  \n"
     ]
    },
    {
     "name": "stdout",
     "output_type": "stream",
     "text": [
      "No Change!\n",
      "************************************************\n",
      "\n",
      "46 000-5.png 3.0006523157208087%\n",
      "47 000-50.png 3.065883887801696%\n",
      "48 000-51.png 3.131115459882583%\n",
      "49 000-52.png 3.1963470319634704%\n",
      "50 000-53.png 3.2615786040443573%\n",
      "51 000-54.png 3.3268101761252447%\n",
      "\n",
      "************************************************\n",
      "Slant determined to be straight.\n"
     ]
    },
    {
     "name": "stdin",
     "output_type": "stream",
     "text": [
      "Press enter if okay, else enter c to change:  \n"
     ]
    },
    {
     "name": "stdout",
     "output_type": "stream",
     "text": [
      "No Change!\n",
      "************************************************\n",
      "\n",
      "52 000-55.png 3.3920417482061316%\n",
      "53 000-56.png 3.457273320287019%\n",
      "54 000-57.png 3.522504892367906%\n",
      "55 000-58.png 3.5877364644487932%\n",
      "\n",
      "************************************************\n",
      "Slant determined to be straight.\n"
     ]
    },
    {
     "name": "stdin",
     "output_type": "stream",
     "text": [
      "Press enter if okay, else enter c to change:  \n"
     ]
    },
    {
     "name": "stdout",
     "output_type": "stream",
     "text": [
      "No Change!\n",
      "************************************************\n",
      "\n",
      "56 000-6.png 3.65296803652968%\n",
      "\n",
      "************************************************\n",
      "Slant determined to be straight.\n"
     ]
    },
    {
     "name": "stdin",
     "output_type": "stream",
     "text": [
      "Press enter if okay, else enter c to change:  \n"
     ]
    },
    {
     "name": "stdout",
     "output_type": "stream",
     "text": [
      "No Change!\n",
      "************************************************\n",
      "\n",
      "57 000-7.png 3.7181996086105675%\n",
      "58 000-8.png 3.7834311806914545%\n",
      "\n",
      "************************************************\n",
      "Slant determined to be straight.\n"
     ]
    },
    {
     "name": "stdin",
     "output_type": "stream",
     "text": [
      "Press enter if okay, else enter c to change:  \n"
     ]
    },
    {
     "name": "stdout",
     "output_type": "stream",
     "text": [
      "No Change!\n",
      "************************************************\n",
      "\n",
      "59 000-9.png 3.848662752772342%\n",
      "60 001-0.png 3.9138943248532287%\n",
      "61 001-1.png 3.979125896934116%\n",
      "62 002-0.png 4.0443574690150035%\n",
      "63 003-0.png 4.109589041095891%\n",
      "64 003-1.png 4.174820613176777%\n",
      "65 004-0.png 4.240052185257665%\n",
      "\n",
      "************************************************\n",
      "Slant determined to be straight.\n"
     ]
    },
    {
     "name": "stdin",
     "output_type": "stream",
     "text": [
      "Press enter if okay, else enter c to change:  \n"
     ]
    },
    {
     "name": "stdout",
     "output_type": "stream",
     "text": [
      "No Change!\n",
      "************************************************\n",
      "\n",
      "66 005-0.png 4.305283757338552%\n",
      "\n",
      "************************************************\n",
      "Slant determined to be straight.\n"
     ]
    },
    {
     "name": "stdin",
     "output_type": "stream",
     "text": [
      "Press enter if okay, else enter c to change:  \n"
     ]
    },
    {
     "name": "stdout",
     "output_type": "stream",
     "text": [
      "No Change!\n",
      "************************************************\n",
      "\n",
      "67 005-1.png 4.370515329419439%\n",
      "68 006-0.png 4.435746901500326%\n",
      "69 007-0.png 4.500978473581213%\n",
      "70 007-1.png 4.566210045662101%\n",
      "71 008-0.png 4.631441617742988%\n",
      "72 008-1.png 4.6966731898238745%\n",
      "73 009-0.png 4.761904761904762%\n",
      "\n",
      "************************************************\n",
      "Slant determined to be straight.\n"
     ]
    },
    {
     "name": "stdin",
     "output_type": "stream",
     "text": [
      "Press enter if okay, else enter c to change:  \n"
     ]
    },
    {
     "name": "stdout",
     "output_type": "stream",
     "text": [
      "No Change!\n",
      "************************************************\n",
      "\n",
      "74 009-1.png 4.827136333985649%\n",
      "\n",
      "************************************************\n",
      "Slant determined to be irregular.\n"
     ]
    },
    {
     "name": "stdin",
     "output_type": "stream",
     "text": [
      "Press enter if okay, else enter c to change:  \n"
     ]
    },
    {
     "name": "stdout",
     "output_type": "stream",
     "text": [
      "No Change!\n",
      "************************************************\n",
      "\n",
      "75 010-0.png 4.892367906066537%\n",
      "\n",
      "************************************************\n",
      "Slant determined to be irregular.\n"
     ]
    },
    {
     "name": "stdin",
     "output_type": "stream",
     "text": [
      "Press enter if okay, else enter c to change:  \n"
     ]
    },
    {
     "name": "stdout",
     "output_type": "stream",
     "text": [
      "No Change!\n",
      "************************************************\n",
      "\n",
      "76 010-1.png 4.957599478147423%\n",
      "\n",
      "************************************************\n",
      "Slant determined to be irregular.\n"
     ]
    },
    {
     "name": "stdin",
     "output_type": "stream",
     "text": [
      "Press enter if okay, else enter c to change:  \n"
     ]
    },
    {
     "name": "stdout",
     "output_type": "stream",
     "text": [
      "No Change!\n",
      "************************************************\n",
      "\n",
      "77 011-0.png 5.0228310502283104%\n",
      "\n",
      "************************************************\n",
      "Slant determined to be straight.\n"
     ]
    },
    {
     "name": "stdin",
     "output_type": "stream",
     "text": [
      "Press enter if okay, else enter c to change:  \n"
     ]
    },
    {
     "name": "stdout",
     "output_type": "stream",
     "text": [
      "No Change!\n",
      "************************************************\n",
      "\n",
      "78 011-1.png 5.088062622309198%\n",
      "79 012-0.png 5.153294194390085%\n",
      "80 012-1.png 5.218525766470972%\n",
      "81 014-0.png 5.283757338551859%\n",
      "82 014-1.png 5.348988910632746%\n",
      "83 015-0.png 5.414220482713634%\n",
      "84 016-0.png 5.47945205479452%\n",
      "85 016-1.png 5.544683626875408%\n",
      "86 016-2.png 5.609915198956295%\n",
      "87 017-0.png 5.675146771037182%\n",
      "88 017-1.png 5.740378343118069%\n",
      "89 017-2.png 5.805609915198956%\n",
      "90 018-0.png 5.870841487279844%\n",
      "91 018-1.png 5.936073059360731%\n",
      "92 019-0.png 6.001304631441617%\n",
      "93 019-1.png 6.066536203522505%\n",
      "94 019-2.png 6.131767775603392%\n",
      "95 020-0.png 6.1969993476842795%\n",
      "96 021-0.png 6.262230919765166%\n",
      "97 022-0.png 6.327462491846053%\n",
      "98 023-0.png 6.392694063926941%\n",
      "\n",
      "************************************************\n",
      "Slant determined to be irregular.\n"
     ]
    },
    {
     "name": "stdin",
     "output_type": "stream",
     "text": [
      "Press enter if okay, else enter c to change:  \n"
     ]
    },
    {
     "name": "stdout",
     "output_type": "stream",
     "text": [
      "No Change!\n",
      "************************************************\n",
      "\n",
      "99 024-0.png 6.457925636007828%\n",
      "\n",
      "************************************************\n",
      "Slant determined to be straight.\n"
     ]
    },
    {
     "name": "stdin",
     "output_type": "stream",
     "text": [
      "Press enter if okay, else enter c to change:  \n"
     ]
    },
    {
     "name": "stdout",
     "output_type": "stream",
     "text": [
      "No Change!\n",
      "************************************************\n",
      "\n",
      "100 025-0.png 6.523157208088715%\n",
      "\n",
      "************************************************\n",
      "Slant determined to be straight.\n"
     ]
    },
    {
     "name": "stdin",
     "output_type": "stream",
     "text": [
      "Press enter if okay, else enter c to change:  \n"
     ]
    },
    {
     "name": "stdout",
     "output_type": "stream",
     "text": [
      "No Change!\n",
      "************************************************\n",
      "\n",
      "101 025-1.png 6.588388780169602%\n",
      "102 025-2.png 6.653620352250489%\n",
      "\n",
      "************************************************\n",
      "Slant determined to be straight.\n"
     ]
    },
    {
     "name": "stdin",
     "output_type": "stream",
     "text": [
      "Press enter if okay, else enter c to change:  \n"
     ]
    },
    {
     "name": "stdout",
     "output_type": "stream",
     "text": [
      "No Change!\n",
      "************************************************\n",
      "\n",
      "103 025-3.png 6.718851924331377%\n",
      "\n",
      "************************************************\n",
      "Slant determined to be straight.\n"
     ]
    },
    {
     "name": "stdin",
     "output_type": "stream",
     "text": [
      "Press enter if okay, else enter c to change:  \n"
     ]
    },
    {
     "name": "stdout",
     "output_type": "stream",
     "text": [
      "No Change!\n",
      "************************************************\n",
      "\n",
      "104 025-4.png 6.784083496412263%\n",
      "105 026-0.png 6.8493150684931505%\n",
      "106 026-1.png 6.914546640574038%\n",
      "107 026-2.png 6.979778212654925%\n",
      "108 026-3.png 7.045009784735812%\n",
      "109 026-4.png 7.110241356816699%\n",
      "110 027-0.png 7.1754729288975865%\n",
      "111 028-0.png 7.240704500978474%\n",
      "\n",
      "************************************************\n",
      "Slant determined to be irregular.\n"
     ]
    },
    {
     "name": "stdin",
     "output_type": "stream",
     "text": [
      "Press enter if okay, else enter c to change:  \n"
     ]
    },
    {
     "name": "stdout",
     "output_type": "stream",
     "text": [
      "No Change!\n",
      "************************************************\n",
      "\n",
      "112 029-0.png 7.30593607305936%\n",
      "113 030-0.png 7.371167645140248%\n",
      "114 031-0.png 7.436399217221135%\n",
      "\n",
      "************************************************\n",
      "Slant determined to be irregular.\n"
     ]
    },
    {
     "name": "stdin",
     "output_type": "stream",
     "text": [
      "Press enter if okay, else enter c to change:  \n"
     ]
    },
    {
     "name": "stdout",
     "output_type": "stream",
     "text": [
      "No Change!\n",
      "************************************************\n",
      "\n",
      "115 032-0.png 7.501630789302022%\n",
      "\n",
      "************************************************\n",
      "Slant determined to be straight.\n"
     ]
    },
    {
     "name": "stdin",
     "output_type": "stream",
     "text": [
      "Press enter if okay, else enter c to change:  \n"
     ]
    },
    {
     "name": "stdout",
     "output_type": "stream",
     "text": [
      "No Change!\n",
      "************************************************\n",
      "\n",
      "116 033-0.png 7.566862361382909%\n",
      "117 034-0.png 7.632093933463796%\n",
      "\n",
      "************************************************\n",
      "Slant determined to be straight.\n"
     ]
    },
    {
     "name": "stdin",
     "output_type": "stream",
     "text": [
      "Press enter if okay, else enter c to change:  \n"
     ]
    },
    {
     "name": "stdout",
     "output_type": "stream",
     "text": [
      "No Change!\n",
      "************************************************\n",
      "\n",
      "118 035-0.png 7.697325505544684%\n",
      "119 036-0.png 7.762557077625571%\n",
      "120 037-0.png 7.8277886497064575%\n",
      "121 037-1.png 7.893020221787345%\n",
      "122 037-2.png 7.958251793868232%\n",
      "123 037-3.png 8.023483365949119%\n",
      "124 037-4.png 8.088714938030007%\n",
      "\n",
      "************************************************\n",
      "Slant determined to be irregular.\n"
     ]
    },
    {
     "name": "stdin",
     "output_type": "stream",
     "text": [
      "Press enter if okay, else enter c to change:  \n"
     ]
    },
    {
     "name": "stdout",
     "output_type": "stream",
     "text": [
      "No Change!\n",
      "************************************************\n",
      "\n",
      "125 038-0.png 8.153946510110893%\n",
      "126 039-0.png 8.219178082191782%\n",
      "127 040-0.png 8.284409654272668%\n",
      "128 041-0.png 8.349641226353555%\n",
      "\n",
      "************************************************\n",
      "Slant determined to be straight.\n"
     ]
    },
    {
     "name": "stdin",
     "output_type": "stream",
     "text": [
      "Press enter if okay, else enter c to change:  \n"
     ]
    },
    {
     "name": "stdout",
     "output_type": "stream",
     "text": [
      "No Change!\n",
      "************************************************\n",
      "\n",
      "129 042-0.png 8.414872798434443%\n",
      "130 043-0.png 8.48010437051533%\n",
      "131 044-0.png 8.545335942596216%\n",
      "132 045-0.png 8.610567514677104%\n",
      "133 046-0.png 8.67579908675799%\n",
      "\n",
      "************************************************\n",
      "Slant determined to be irregular.\n"
     ]
    },
    {
     "name": "stdin",
     "output_type": "stream",
     "text": [
      "Press enter if okay, else enter c to change:  \n"
     ]
    },
    {
     "name": "stdout",
     "output_type": "stream",
     "text": [
      "No Change!\n",
      "************************************************\n",
      "\n",
      "134 047-0.png 8.741030658838879%\n",
      "135 048-0.png 8.806262230919765%\n",
      "\n",
      "************************************************\n",
      "Slant determined to be irregular.\n"
     ]
    },
    {
     "name": "stdin",
     "output_type": "stream",
     "text": [
      "Press enter if okay, else enter c to change:  \n"
     ]
    },
    {
     "name": "stdout",
     "output_type": "stream",
     "text": [
      "No Change!\n",
      "************************************************\n",
      "\n",
      "136 049-0.png 8.871493803000652%\n",
      "137 050-0.png 8.93672537508154%\n",
      "138 051-0.png 9.001956947162427%\n",
      "\n",
      "************************************************\n",
      "Slant determined to be irregular.\n"
     ]
    },
    {
     "name": "stdin",
     "output_type": "stream",
     "text": [
      "Press enter if okay, else enter c to change:  \n"
     ]
    },
    {
     "name": "stdout",
     "output_type": "stream",
     "text": [
      "No Change!\n",
      "************************************************\n",
      "\n",
      "139 052-0.png 9.067188519243313%\n",
      "140 053-0.png 9.132420091324201%\n",
      "141 054-0.png 9.197651663405088%\n",
      "142 055-0.png 9.262883235485976%\n",
      "143 056-0.png 9.328114807566863%\n",
      "144 058-0.png 9.393346379647749%\n",
      "145 058-1.png 9.458577951728637%\n",
      "146 058-2.png 9.523809523809524%\n",
      "147 058-3.png 9.58904109589041%\n",
      "148 059-0.png 9.654272667971298%\n",
      "149 059-1.png 9.719504240052185%\n",
      "150 059-2.png 9.784735812133073%\n",
      "151 059-3.png 9.84996738421396%\n",
      "152 060-0.png 9.915198956294846%\n",
      "153 060-1.png 9.980430528375734%\n",
      "154 060-2.png 10.045662100456621%\n",
      "155 060-3.png 10.110893672537507%\n",
      "156 061-0.png 10.176125244618396%\n",
      "157 061-1.png 10.241356816699282%\n",
      "158 061-2.png 10.30658838878017%\n",
      "159 061-3.png 10.371819960861057%\n",
      "160 062-0.png 10.437051532941943%\n",
      "161 062-1.png 10.502283105022832%\n",
      "\n",
      "************************************************\n",
      "Slant determined to be straight.\n"
     ]
    },
    {
     "name": "stdin",
     "output_type": "stream",
     "text": [
      "Press enter if okay, else enter c to change:  \n"
     ]
    },
    {
     "name": "stdout",
     "output_type": "stream",
     "text": [
      "No Change!\n",
      "************************************************\n",
      "\n",
      "162 062-2.png 10.567514677103718%\n",
      "\n",
      "************************************************\n",
      "Slant determined to be irregular.\n"
     ]
    },
    {
     "name": "stdin",
     "output_type": "stream",
     "text": [
      "Press enter if okay, else enter c to change:  \n"
     ]
    },
    {
     "name": "stdout",
     "output_type": "stream",
     "text": [
      "No Change!\n",
      "************************************************\n",
      "\n",
      "163 063-0.png 10.632746249184605%\n",
      "164 063-1.png 10.697977821265493%\n",
      "165 063-2.png 10.76320939334638%\n",
      "166 064-0.png 10.828440965427268%\n",
      "\n",
      "************************************************\n",
      "Slant determined to be straight.\n"
     ]
    },
    {
     "name": "stdin",
     "output_type": "stream",
     "text": [
      "Press enter if okay, else enter c to change:  \n"
     ]
    },
    {
     "name": "stdout",
     "output_type": "stream",
     "text": [
      "No Change!\n",
      "************************************************\n",
      "\n",
      "167 064-1.png 10.893672537508154%\n",
      "168 064-2.png 10.95890410958904%\n",
      "169 064-3.png 11.024135681669929%\n",
      "\n",
      "************************************************\n",
      "Slant determined to be straight.\n"
     ]
    },
    {
     "name": "stdin",
     "output_type": "stream",
     "text": [
      "Press enter if okay, else enter c to change:  \n"
     ]
    },
    {
     "name": "stdout",
     "output_type": "stream",
     "text": [
      "No Change!\n",
      "************************************************\n",
      "\n",
      "170 065-0.png 11.089367253750815%\n",
      "171 065-1.png 11.154598825831702%\n",
      "172 066-0.png 11.21983039791259%\n",
      "173 066-1.png 11.285061969993476%\n",
      "174 067-0.png 11.350293542074365%\n",
      "175 068-0.png 11.415525114155251%\n",
      "176 069-0.png 11.480756686236138%\n",
      "177 070-0.png 11.545988258317026%\n",
      "178 071-0.png 11.611219830397912%\n",
      "179 072-0.png 11.676451402478799%\n",
      "180 073-0.png 11.741682974559687%\n",
      "181 074-0.png 11.806914546640574%\n",
      "\n",
      "************************************************\n",
      "Slant determined to be irregular.\n"
     ]
    },
    {
     "name": "stdin",
     "output_type": "stream",
     "text": [
      "Press enter if okay, else enter c to change:  \n"
     ]
    },
    {
     "name": "stdout",
     "output_type": "stream",
     "text": [
      "No Change!\n",
      "************************************************\n",
      "\n",
      "182 075-0.png 11.872146118721462%\n",
      "183 076-0.png 11.937377690802348%\n",
      "184 077-0.png 12.002609262883235%\n",
      "185 078-0.png 12.067840834964123%\n",
      "\n",
      "************************************************\n",
      "Slant determined to be irregular.\n"
     ]
    },
    {
     "name": "stdin",
     "output_type": "stream",
     "text": [
      "Press enter if okay, else enter c to change:  \n"
     ]
    },
    {
     "name": "stdout",
     "output_type": "stream",
     "text": [
      "No Change!\n",
      "************************************************\n",
      "\n",
      "186 079-0.png 12.13307240704501%\n",
      "187 080-0.png 12.198303979125898%\n",
      "188 081-0.png 12.263535551206784%\n",
      "\n",
      "************************************************\n",
      "Slant determined to be irregular.\n"
     ]
    },
    {
     "name": "stdin",
     "output_type": "stream",
     "text": [
      "Press enter if okay, else enter c to change:  \n"
     ]
    },
    {
     "name": "stdout",
     "output_type": "stream",
     "text": [
      "No Change!\n",
      "************************************************\n",
      "\n",
      "189 081-1.png 12.32876712328767%\n",
      "190 082-0.png 12.393998695368559%\n",
      "\n",
      "************************************************\n",
      "Slant determined to be straight.\n"
     ]
    },
    {
     "name": "stdin",
     "output_type": "stream",
     "text": [
      "Press enter if okay, else enter c to change:  \n"
     ]
    },
    {
     "name": "stdout",
     "output_type": "stream",
     "text": [
      "No Change!\n",
      "************************************************\n",
      "\n",
      "191 083-0.png 12.459230267449446%\n",
      "\n",
      "************************************************\n",
      "Slant determined to be straight.\n"
     ]
    },
    {
     "name": "stdin",
     "output_type": "stream",
     "text": [
      "Press enter if okay, else enter c to change:  \n"
     ]
    },
    {
     "name": "stdout",
     "output_type": "stream",
     "text": [
      "No Change!\n",
      "************************************************\n",
      "\n",
      "192 084-0.png 12.524461839530332%\n",
      "193 084-1.png 12.58969341161122%\n",
      "\n",
      "************************************************\n",
      "Slant determined to be irregular.\n"
     ]
    },
    {
     "name": "stdin",
     "output_type": "stream",
     "text": [
      "Press enter if okay, else enter c to change:  \n"
     ]
    },
    {
     "name": "stdout",
     "output_type": "stream",
     "text": [
      "No Change!\n",
      "************************************************\n",
      "\n",
      "194 085-0.png 12.654924983692107%\n",
      "\n",
      "************************************************\n",
      "Slant determined to be irregular.\n"
     ]
    },
    {
     "name": "stdin",
     "output_type": "stream",
     "text": [
      "Press enter if okay, else enter c to change:  \n"
     ]
    },
    {
     "name": "stdout",
     "output_type": "stream",
     "text": [
      "No Change!\n",
      "************************************************\n",
      "\n",
      "195 085-1.png 12.720156555772995%\n",
      "\n",
      "************************************************\n",
      "Slant determined to be irregular.\n"
     ]
    },
    {
     "name": "stdin",
     "output_type": "stream",
     "text": [
      "Press enter if okay, else enter c to change:  \n"
     ]
    },
    {
     "name": "stdout",
     "output_type": "stream",
     "text": [
      "No Change!\n",
      "************************************************\n",
      "\n",
      "196 085-2.png 12.785388127853881%\n",
      "\n",
      "************************************************\n",
      "Slant determined to be irregular.\n"
     ]
    },
    {
     "name": "stdin",
     "output_type": "stream",
     "text": [
      "Press enter if okay, else enter c to change:  \n"
     ]
    },
    {
     "name": "stdout",
     "output_type": "stream",
     "text": [
      "No Change!\n",
      "************************************************\n",
      "\n",
      "197 085-3.png 12.850619699934768%\n",
      "\n",
      "************************************************\n",
      "Slant determined to be irregular.\n"
     ]
    },
    {
     "name": "stdin",
     "output_type": "stream",
     "text": [
      "Press enter if okay, else enter c to change:  \n"
     ]
    },
    {
     "name": "stdout",
     "output_type": "stream",
     "text": [
      "No Change!\n",
      "************************************************\n",
      "\n",
      "198 085-4.png 12.915851272015656%\n",
      "\n",
      "************************************************\n",
      "Slant determined to be straight.\n"
     ]
    },
    {
     "name": "stdin",
     "output_type": "stream",
     "text": [
      "Press enter if okay, else enter c to change:  \n"
     ]
    },
    {
     "name": "stdout",
     "output_type": "stream",
     "text": [
      "No Change!\n",
      "************************************************\n",
      "\n",
      "199 085-5.png 12.981082844096543%\n",
      "200 086-0.png 13.04631441617743%\n",
      "201 087-0.png 13.111545988258317%\n",
      "202 087-1.png 13.176777560339204%\n",
      "203 087-2.png 13.242009132420092%\n",
      "204 088-0.png 13.307240704500979%\n",
      "205 088-1.png 13.372472276581865%\n",
      "206 088-2.png 13.437703848662753%\n",
      "207 089-0.png 13.50293542074364%\n",
      "208 089-1.png 13.568166992824526%\n",
      "209 089-2.png 13.633398564905415%\n",
      "210 090-0.png 13.698630136986301%\n",
      "211 090-1.png 13.76386170906719%\n",
      "\n",
      "************************************************\n",
      "Slant determined to be irregular.\n"
     ]
    },
    {
     "name": "stdin",
     "output_type": "stream",
     "text": [
      "Press enter if okay, else enter c to change:  \n"
     ]
    },
    {
     "name": "stdout",
     "output_type": "stream",
     "text": [
      "No Change!\n",
      "************************************************\n",
      "\n",
      "212 090-2.png 13.829093281148076%\n",
      "\n",
      "************************************************\n",
      "Slant determined to be irregular.\n"
     ]
    },
    {
     "name": "stdin",
     "output_type": "stream",
     "text": [
      "Press enter if okay, else enter c to change:  \n"
     ]
    },
    {
     "name": "stdout",
     "output_type": "stream",
     "text": [
      "No Change!\n",
      "************************************************\n",
      "\n",
      "213 091-0.png 13.894324853228962%\n",
      "\n",
      "************************************************\n",
      "Slant determined to be irregular.\n"
     ]
    },
    {
     "name": "stdin",
     "output_type": "stream",
     "text": [
      "Press enter if okay, else enter c to change:  \n"
     ]
    },
    {
     "name": "stdout",
     "output_type": "stream",
     "text": [
      "No Change!\n",
      "************************************************\n",
      "\n",
      "214 091-2.png 13.95955642530985%\n",
      "\n",
      "************************************************\n",
      "Slant determined to be irregular.\n"
     ]
    },
    {
     "name": "stdin",
     "output_type": "stream",
     "text": [
      "Press enter if okay, else enter c to change:  \n"
     ]
    },
    {
     "name": "stdout",
     "output_type": "stream",
     "text": [
      "No Change!\n",
      "************************************************\n",
      "\n",
      "215 092-0.png 14.024787997390737%\n",
      "\n",
      "************************************************\n",
      "Slant determined to be irregular.\n"
     ]
    },
    {
     "name": "stdin",
     "output_type": "stream",
     "text": [
      "Press enter if okay, else enter c to change:  \n"
     ]
    },
    {
     "name": "stdout",
     "output_type": "stream",
     "text": [
      "No Change!\n",
      "************************************************\n",
      "\n",
      "216 092-1.png 14.090019569471623%\n",
      "217 092-2.png 14.155251141552512%\n",
      "218 093-0.png 14.220482713633398%\n",
      "219 093-1.png 14.285714285714286%\n",
      "220 093-2.png 14.350945857795173%\n",
      "\n",
      "************************************************\n",
      "Slant determined to be irregular.\n"
     ]
    },
    {
     "name": "stdin",
     "output_type": "stream",
     "text": [
      "Press enter if okay, else enter c to change:  \n"
     ]
    },
    {
     "name": "stdout",
     "output_type": "stream",
     "text": [
      "No Change!\n",
      "************************************************\n",
      "\n",
      "221 094-0.png 14.41617742987606%\n",
      "\n",
      "************************************************\n",
      "Slant determined to be irregular.\n"
     ]
    },
    {
     "name": "stdin",
     "output_type": "stream",
     "text": [
      "Press enter if okay, else enter c to change:  \n"
     ]
    },
    {
     "name": "stdout",
     "output_type": "stream",
     "text": [
      "No Change!\n",
      "************************************************\n",
      "\n",
      "222 094-1.png 14.481409001956948%\n",
      "\n",
      "************************************************\n",
      "Slant determined to be irregular.\n"
     ]
    },
    {
     "name": "stdin",
     "output_type": "stream",
     "text": [
      "Press enter if okay, else enter c to change:  \n"
     ]
    },
    {
     "name": "stdout",
     "output_type": "stream",
     "text": [
      "No Change!\n",
      "************************************************\n",
      "\n",
      "223 094-2.png 14.546640574037834%\n",
      "224 095-0.png 14.61187214611872%\n",
      "225 095-1.png 14.677103718199609%\n",
      "226 096-0.png 14.742335290280495%\n",
      "\n",
      "************************************************\n",
      "Slant determined to be straight.\n"
     ]
    },
    {
     "name": "stdin",
     "output_type": "stream",
     "text": [
      "Press enter if okay, else enter c to change:  \n"
     ]
    },
    {
     "name": "stdout",
     "output_type": "stream",
     "text": [
      "No Change!\n",
      "************************************************\n",
      "\n",
      "227 097-0.png 14.807566862361384%\n",
      "228 098-0.png 14.87279843444227%\n",
      "229 099-0.png 14.938030006523157%\n",
      "230 100-0.png 15.003261578604045%\n",
      "\n",
      "************************************************\n",
      "Slant determined to be irregular.\n"
     ]
    },
    {
     "name": "stdin",
     "output_type": "stream",
     "text": [
      "Press enter if okay, else enter c to change:  \n"
     ]
    },
    {
     "name": "stdout",
     "output_type": "stream",
     "text": [
      "No Change!\n",
      "************************************************\n",
      "\n",
      "231 102-0.png 15.068493150684931%\n",
      "\n",
      "************************************************\n",
      "Slant determined to be straight.\n"
     ]
    },
    {
     "name": "stdin",
     "output_type": "stream",
     "text": [
      "Press enter if okay, else enter c to change:  \n"
     ]
    },
    {
     "name": "stdout",
     "output_type": "stream",
     "text": [
      "No Change!\n",
      "************************************************\n",
      "\n",
      "232 102-1.png 15.133724722765818%\n",
      "\n",
      "************************************************\n",
      "Slant determined to be irregular.\n"
     ]
    },
    {
     "name": "stdin",
     "output_type": "stream",
     "text": [
      "Press enter if okay, else enter c to change:  \n"
     ]
    },
    {
     "name": "stdout",
     "output_type": "stream",
     "text": [
      "No Change!\n",
      "************************************************\n",
      "\n",
      "233 103-0.png 15.198956294846706%\n",
      "234 104-0.png 15.264187866927593%\n",
      "235 105-0.png 15.32941943900848%\n",
      "236 106-0.png 15.394651011089367%\n",
      "237 107-0.png 15.459882583170254%\n",
      "238 107-1.png 15.525114155251142%\n",
      "239 107-2.png 15.590345727332029%\n",
      "240 107-3.png 15.655577299412915%\n",
      "\n",
      "************************************************\n",
      "Slant determined to be irregular.\n"
     ]
    },
    {
     "name": "stdin",
     "output_type": "stream",
     "text": [
      "Press enter if okay, else enter c to change:  \n"
     ]
    },
    {
     "name": "stdout",
     "output_type": "stream",
     "text": [
      "No Change!\n",
      "************************************************\n",
      "\n",
      "241 108-0.png 15.720808871493803%\n",
      "242 108-1.png 15.78604044357469%\n",
      "243 108-2.png 15.851272015655578%\n",
      "244 108-3.png 15.916503587736464%\n",
      "\n",
      "************************************************\n",
      "Slant determined to be straight.\n"
     ]
    },
    {
     "name": "stdin",
     "output_type": "stream",
     "text": [
      "Press enter if okay, else enter c to change:  \n"
     ]
    },
    {
     "name": "stdout",
     "output_type": "stream",
     "text": [
      "No Change!\n",
      "************************************************\n",
      "\n",
      "245 109-0.png 15.981735159817351%\n",
      "\n",
      "************************************************\n",
      "Slant determined to be irregular.\n"
     ]
    },
    {
     "name": "stdin",
     "output_type": "stream",
     "text": [
      "Press enter if okay, else enter c to change:  \n"
     ]
    },
    {
     "name": "stdout",
     "output_type": "stream",
     "text": [
      "No Change!\n",
      "************************************************\n",
      "\n",
      "246 109-1.png 16.046966731898237%\n",
      "\n",
      "************************************************\n",
      "Slant determined to be irregular.\n"
     ]
    },
    {
     "name": "stdin",
     "output_type": "stream",
     "text": [
      "Press enter if okay, else enter c to change:  \n"
     ]
    },
    {
     "name": "stdout",
     "output_type": "stream",
     "text": [
      "No Change!\n",
      "************************************************\n",
      "\n",
      "247 109-2.png 16.112198303979127%\n",
      "\n",
      "************************************************\n",
      "Slant determined to be irregular.\n"
     ]
    },
    {
     "name": "stdin",
     "output_type": "stream",
     "text": [
      "Press enter if okay, else enter c to change:  \n"
     ]
    },
    {
     "name": "stdout",
     "output_type": "stream",
     "text": [
      "No Change!\n",
      "************************************************\n",
      "\n",
      "248 109-3.png 16.177429876060014%\n",
      "\n",
      "************************************************\n",
      "Slant determined to be irregular.\n"
     ]
    },
    {
     "name": "stdin",
     "output_type": "stream",
     "text": [
      "Press enter if okay, else enter c to change:  \n"
     ]
    },
    {
     "name": "stdout",
     "output_type": "stream",
     "text": [
      "No Change!\n",
      "************************************************\n",
      "\n",
      "249 110-0.png 16.2426614481409%\n",
      "\n",
      "************************************************\n",
      "Slant determined to be irregular.\n"
     ]
    },
    {
     "name": "stdin",
     "output_type": "stream",
     "text": [
      "Press enter if okay, else enter c to change:  \n"
     ]
    },
    {
     "name": "stdout",
     "output_type": "stream",
     "text": [
      "No Change!\n",
      "************************************************\n",
      "\n",
      "250 110-1.png 16.307893020221787%\n",
      "\n",
      "************************************************\n",
      "Slant determined to be straight.\n"
     ]
    },
    {
     "name": "stdin",
     "output_type": "stream",
     "text": [
      "Press enter if okay, else enter c to change:  \n"
     ]
    },
    {
     "name": "stdout",
     "output_type": "stream",
     "text": [
      "No Change!\n",
      "************************************************\n",
      "\n",
      "251 110-2.png 16.373124592302673%\n",
      "\n",
      "************************************************\n",
      "Slant determined to be irregular.\n"
     ]
    },
    {
     "name": "stdin",
     "output_type": "stream",
     "text": [
      "Press enter if okay, else enter c to change:  \n"
     ]
    },
    {
     "name": "stdout",
     "output_type": "stream",
     "text": [
      "No Change!\n",
      "************************************************\n",
      "\n",
      "252 110-3.png 16.438356164383563%\n",
      "\n",
      "************************************************\n",
      "Slant determined to be irregular.\n"
     ]
    },
    {
     "name": "stdin",
     "output_type": "stream",
     "text": [
      "Press enter if okay, else enter c to change:  \n"
     ]
    },
    {
     "name": "stdout",
     "output_type": "stream",
     "text": [
      "No Change!\n",
      "************************************************\n",
      "\n",
      "253 111-0.png 16.50358773646445%\n",
      "\n",
      "************************************************\n",
      "Slant determined to be irregular.\n"
     ]
    },
    {
     "name": "stdin",
     "output_type": "stream",
     "text": [
      "Press enter if okay, else enter c to change:  \n"
     ]
    },
    {
     "name": "stdout",
     "output_type": "stream",
     "text": [
      "No Change!\n",
      "************************************************\n",
      "\n",
      "254 111-1.png 16.568819308545336%\n",
      "\n",
      "************************************************\n",
      "Slant determined to be straight.\n"
     ]
    },
    {
     "name": "stdin",
     "output_type": "stream",
     "text": [
      "Press enter if okay, else enter c to change:  \n"
     ]
    },
    {
     "name": "stdout",
     "output_type": "stream",
     "text": [
      "No Change!\n",
      "************************************************\n",
      "\n",
      "255 111-2.png 16.634050880626223%\n",
      "\n",
      "************************************************\n",
      "Slant determined to be irregular.\n"
     ]
    },
    {
     "name": "stdin",
     "output_type": "stream",
     "text": [
      "Press enter if okay, else enter c to change:  \n"
     ]
    },
    {
     "name": "stdout",
     "output_type": "stream",
     "text": [
      "No Change!\n",
      "************************************************\n",
      "\n",
      "256 111-3.png 16.69928245270711%\n",
      "\n",
      "************************************************\n",
      "Slant determined to be irregular.\n"
     ]
    },
    {
     "name": "stdin",
     "output_type": "stream",
     "text": [
      "Press enter if okay, else enter c to change:  \n"
     ]
    },
    {
     "name": "stdout",
     "output_type": "stream",
     "text": [
      "No Change!\n",
      "************************************************\n",
      "\n",
      "257 112-0.png 16.764514024787996%\n",
      "\n",
      "************************************************\n",
      "Slant determined to be irregular.\n"
     ]
    },
    {
     "name": "stdin",
     "output_type": "stream",
     "text": [
      "Press enter if okay, else enter c to change:  \n"
     ]
    },
    {
     "name": "stdout",
     "output_type": "stream",
     "text": [
      "No Change!\n",
      "************************************************\n",
      "\n",
      "258 112-1.png 16.829745596868886%\n",
      "\n",
      "************************************************\n",
      "Slant determined to be irregular.\n"
     ]
    },
    {
     "name": "stdin",
     "output_type": "stream",
     "text": [
      "Press enter if okay, else enter c to change:  \n"
     ]
    },
    {
     "name": "stdout",
     "output_type": "stream",
     "text": [
      "No Change!\n",
      "************************************************\n",
      "\n",
      "259 112-2.png 16.894977168949772%\n",
      "\n",
      "************************************************\n",
      "Slant determined to be irregular.\n"
     ]
    },
    {
     "name": "stdin",
     "output_type": "stream",
     "text": [
      "Press enter if okay, else enter c to change:  \n"
     ]
    },
    {
     "name": "stdout",
     "output_type": "stream",
     "text": [
      "No Change!\n",
      "************************************************\n",
      "\n",
      "260 112-3.png 16.96020874103066%\n",
      "\n",
      "************************************************\n",
      "Slant determined to be irregular.\n"
     ]
    },
    {
     "name": "stdin",
     "output_type": "stream",
     "text": [
      "Press enter if okay, else enter c to change:  \n"
     ]
    },
    {
     "name": "stdout",
     "output_type": "stream",
     "text": [
      "No Change!\n",
      "************************************************\n",
      "\n",
      "261 113-0.png 17.025440313111545%\n",
      "\n",
      "************************************************\n",
      "Slant determined to be irregular.\n"
     ]
    },
    {
     "name": "stdin",
     "output_type": "stream",
     "text": [
      "Press enter if okay, else enter c to change:  \n"
     ]
    },
    {
     "name": "stdout",
     "output_type": "stream",
     "text": [
      "No Change!\n",
      "************************************************\n",
      "\n",
      "262 113-1.png 17.09067188519243%\n",
      "\n",
      "************************************************\n",
      "Slant determined to be irregular.\n"
     ]
    },
    {
     "name": "stdin",
     "output_type": "stream",
     "text": [
      "Press enter if okay, else enter c to change:  \n"
     ]
    },
    {
     "name": "stdout",
     "output_type": "stream",
     "text": [
      "No Change!\n",
      "************************************************\n",
      "\n",
      "263 113-2.png 17.155903457273322%\n",
      "\n",
      "************************************************\n",
      "Slant determined to be irregular.\n"
     ]
    },
    {
     "name": "stdin",
     "output_type": "stream",
     "text": [
      "Press enter if okay, else enter c to change:  \n"
     ]
    },
    {
     "name": "stdout",
     "output_type": "stream",
     "text": [
      "No Change!\n",
      "************************************************\n",
      "\n",
      "264 113-3.png 17.22113502935421%\n",
      "\n",
      "************************************************\n",
      "Slant determined to be straight.\n"
     ]
    },
    {
     "name": "stdin",
     "output_type": "stream",
     "text": [
      "Press enter if okay, else enter c to change:  \n"
     ]
    },
    {
     "name": "stdout",
     "output_type": "stream",
     "text": [
      "No Change!\n",
      "************************************************\n",
      "\n",
      "265 114-0.png 17.286366601435095%\n",
      "\n",
      "************************************************\n",
      "Slant determined to be irregular.\n"
     ]
    },
    {
     "name": "stdin",
     "output_type": "stream",
     "text": [
      "Press enter if okay, else enter c to change:  \n"
     ]
    },
    {
     "name": "stdout",
     "output_type": "stream",
     "text": [
      "No Change!\n",
      "************************************************\n",
      "\n",
      "266 114-1.png 17.35159817351598%\n",
      "267 114-2.png 17.416829745596868%\n",
      "268 114-3.png 17.482061317677758%\n",
      "269 115-0.png 17.547292889758644%\n",
      "270 116-0.png 17.61252446183953%\n",
      "\n",
      "************************************************\n",
      "Slant determined to be irregular.\n"
     ]
    },
    {
     "name": "stdin",
     "output_type": "stream",
     "text": [
      "Press enter if okay, else enter c to change:  \n"
     ]
    },
    {
     "name": "stdout",
     "output_type": "stream",
     "text": [
      "No Change!\n",
      "************************************************\n",
      "\n",
      "271 117-0.png 17.677756033920417%\n",
      "\n",
      "************************************************\n",
      "Slant determined to be straight.\n"
     ]
    },
    {
     "name": "stdin",
     "output_type": "stream",
     "text": [
      "Press enter if okay, else enter c to change:  \n"
     ]
    },
    {
     "name": "stdout",
     "output_type": "stream",
     "text": [
      "No Change!\n",
      "************************************************\n",
      "\n",
      "272 117-1.png 17.742987606001304%\n",
      "\n",
      "************************************************\n",
      "Slant determined to be straight.\n"
     ]
    },
    {
     "name": "stdin",
     "output_type": "stream",
     "text": [
      "Press enter if okay, else enter c to change:  \n"
     ]
    },
    {
     "name": "stdout",
     "output_type": "stream",
     "text": [
      "No Change!\n",
      "************************************************\n",
      "\n",
      "273 117-2.png 17.80821917808219%\n",
      "\n",
      "************************************************\n",
      "Slant determined to be irregular.\n"
     ]
    },
    {
     "name": "stdin",
     "output_type": "stream",
     "text": [
      "Press enter if okay, else enter c to change:  \n"
     ]
    },
    {
     "name": "stdout",
     "output_type": "stream",
     "text": [
      "No Change!\n",
      "************************************************\n",
      "\n",
      "274 117-3.png 17.87345075016308%\n",
      "275 118-0.png 17.938682322243967%\n",
      "276 118-1.png 18.003913894324853%\n",
      "277 118-2.png 18.06914546640574%\n",
      "278 118-3.png 18.134377038486626%\n",
      "279 118-4.png 18.199608610567516%\n",
      "280 118-5.png 18.264840182648403%\n",
      "281 118-6.png 18.33007175472929%\n",
      "282 119-0.png 18.395303326810176%\n",
      "283 119-1.png 18.460534898891062%\n",
      "\n",
      "************************************************\n",
      "Slant determined to be straight.\n"
     ]
    },
    {
     "name": "stdin",
     "output_type": "stream",
     "text": [
      "Press enter if okay, else enter c to change:  \n"
     ]
    },
    {
     "name": "stdout",
     "output_type": "stream",
     "text": [
      "No Change!\n",
      "************************************************\n",
      "\n",
      "284 120-0.png 18.525766470971952%\n",
      "\n",
      "************************************************\n",
      "Slant determined to be straight.\n"
     ]
    },
    {
     "name": "stdin",
     "output_type": "stream",
     "text": [
      "Press enter if okay, else enter c to change:  \n"
     ]
    },
    {
     "name": "stdout",
     "output_type": "stream",
     "text": [
      "No Change!\n",
      "************************************************\n",
      "\n",
      "285 121-0.png 18.59099804305284%\n",
      "\n",
      "************************************************\n",
      "Slant determined to be straight.\n"
     ]
    },
    {
     "name": "stdin",
     "output_type": "stream",
     "text": [
      "Press enter if okay, else enter c to change:  \n"
     ]
    },
    {
     "name": "stdout",
     "output_type": "stream",
     "text": [
      "No Change!\n",
      "************************************************\n",
      "\n",
      "286 121-1.png 18.656229615133725%\n",
      "287 122-0.png 18.72146118721461%\n",
      "288 123-0.png 18.786692759295498%\n",
      "289 123-1.png 18.851924331376384%\n",
      "290 123-2.png 18.917155903457274%\n",
      "291 123-3.png 18.98238747553816%\n",
      "292 123-4.png 19.047619047619047%\n",
      "\n",
      "************************************************\n",
      "Slant determined to be straight.\n"
     ]
    },
    {
     "name": "stdin",
     "output_type": "stream",
     "text": [
      "Press enter if okay, else enter c to change:  \n"
     ]
    },
    {
     "name": "stdout",
     "output_type": "stream",
     "text": [
      "No Change!\n",
      "************************************************\n",
      "\n",
      "293 124-0.png 19.112850619699934%\n",
      "294 124-1.png 19.17808219178082%\n",
      "\n",
      "************************************************\n",
      "Slant determined to be straight.\n"
     ]
    },
    {
     "name": "stdin",
     "output_type": "stream",
     "text": [
      "Press enter if okay, else enter c to change:  \n"
     ]
    },
    {
     "name": "stdout",
     "output_type": "stream",
     "text": [
      "No Change!\n",
      "************************************************\n",
      "\n",
      "295 124-2.png 19.24331376386171%\n",
      "296 124-3.png 19.308545335942597%\n",
      "\n",
      "************************************************\n",
      "Slant determined to be straight.\n"
     ]
    },
    {
     "name": "stdin",
     "output_type": "stream",
     "text": [
      "Press enter if okay, else enter c to change:  \n"
     ]
    },
    {
     "name": "stdout",
     "output_type": "stream",
     "text": [
      "No Change!\n",
      "************************************************\n",
      "\n",
      "297 125-0.png 19.373776908023483%\n",
      "298 125-1.png 19.43900848010437%\n",
      "\n",
      "************************************************\n",
      "Slant determined to be irregular.\n"
     ]
    },
    {
     "name": "stdin",
     "output_type": "stream",
     "text": [
      "Press enter if okay, else enter c to change:  \n"
     ]
    },
    {
     "name": "stdout",
     "output_type": "stream",
     "text": [
      "No Change!\n",
      "************************************************\n",
      "\n",
      "299 125-2.png 19.504240052185256%\n",
      "300 125-3.png 19.569471624266146%\n",
      "\n",
      "************************************************\n",
      "Slant determined to be irregular.\n"
     ]
    },
    {
     "name": "stdin",
     "output_type": "stream",
     "text": [
      "Press enter if okay, else enter c to change:  \n"
     ]
    },
    {
     "name": "stdout",
     "output_type": "stream",
     "text": [
      "No Change!\n",
      "************************************************\n",
      "\n",
      "301 126-0.png 19.634703196347033%\n",
      "302 126-1.png 19.69993476842792%\n",
      "\n",
      "************************************************\n",
      "Slant determined to be irregular.\n"
     ]
    },
    {
     "name": "stdin",
     "output_type": "stream",
     "text": [
      "Press enter if okay, else enter c to change:  \n"
     ]
    },
    {
     "name": "stdout",
     "output_type": "stream",
     "text": [
      "No Change!\n",
      "************************************************\n",
      "\n",
      "303 126-2.png 19.765166340508806%\n",
      "\n",
      "************************************************\n",
      "Slant determined to be straight.\n"
     ]
    },
    {
     "name": "stdin",
     "output_type": "stream",
     "text": [
      "Press enter if okay, else enter c to change:  \n"
     ]
    },
    {
     "name": "stdout",
     "output_type": "stream",
     "text": [
      "No Change!\n",
      "************************************************\n",
      "\n",
      "304 126-3.png 19.830397912589692%\n",
      "\n",
      "************************************************\n",
      "Slant determined to be straight.\n"
     ]
    },
    {
     "name": "stdin",
     "output_type": "stream",
     "text": [
      "Press enter if okay, else enter c to change:  \n"
     ]
    },
    {
     "name": "stdout",
     "output_type": "stream",
     "text": [
      "No Change!\n",
      "************************************************\n",
      "\n",
      "305 126-4.png 19.89562948467058%\n",
      "306 127-0.png 19.96086105675147%\n",
      "307 127-1.png 20.026092628832355%\n",
      "308 127-2.png 20.091324200913242%\n",
      "309 128-0.png 20.15655577299413%\n",
      "310 128-1.png 20.221787345075015%\n",
      "311 128-2.png 20.287018917155905%\n",
      "312 128-3.png 20.35225048923679%\n",
      "313 128-4.png 20.417482061317678%\n",
      "314 129-0.png 20.482713633398564%\n",
      "315 129-1.png 20.54794520547945%\n",
      "\n",
      "************************************************\n",
      "Slant determined to be irregular.\n"
     ]
    },
    {
     "name": "stdin",
     "output_type": "stream",
     "text": [
      "Press enter if okay, else enter c to change:  \n"
     ]
    },
    {
     "name": "stdout",
     "output_type": "stream",
     "text": [
      "No Change!\n",
      "************************************************\n",
      "\n",
      "316 129-2.png 20.61317677756034%\n",
      "317 129-3.png 20.678408349641227%\n",
      "318 130-0.png 20.743639921722114%\n",
      "319 130-1.png 20.808871493803%\n",
      "320 130-2.png 20.874103065883887%\n",
      "321 130-3.png 20.939334637964777%\n",
      "322 130-4.png 21.004566210045663%\n",
      "323 131-0.png 21.06979778212655%\n",
      "324 131-1.png 21.135029354207436%\n",
      "325 131-2.png 21.200260926288323%\n",
      "326 131-3.png 21.26549249836921%\n",
      "327 132-0.png 21.3307240704501%\n",
      "328 132-1.png 21.395955642530986%\n",
      "329 132-2.png 21.461187214611872%\n",
      "330 132-3.png 21.52641878669276%\n",
      "331 133-0.png 21.591650358773645%\n",
      "332 133-1.png 21.656881930854535%\n",
      "333 133-2.png 21.72211350293542%\n",
      "334 133-3.png 21.787345075016308%\n",
      "335 133-4.png 21.852576647097194%\n",
      "336 134-0.png 21.91780821917808%\n",
      "337 134-1.png 21.98303979125897%\n",
      "\n",
      "************************************************\n",
      "Slant determined to be straight.\n"
     ]
    },
    {
     "name": "stdin",
     "output_type": "stream",
     "text": [
      "Press enter if okay, else enter c to change:  \n"
     ]
    },
    {
     "name": "stdout",
     "output_type": "stream",
     "text": [
      "No Change!\n",
      "************************************************\n",
      "\n",
      "338 135-0.png 22.048271363339857%\n",
      "\n",
      "************************************************\n",
      "Slant determined to be straight.\n"
     ]
    },
    {
     "name": "stdin",
     "output_type": "stream",
     "text": [
      "Press enter if okay, else enter c to change:  \n"
     ]
    },
    {
     "name": "stdout",
     "output_type": "stream",
     "text": [
      "No Change!\n",
      "************************************************\n",
      "\n",
      "339 135-1.png 22.113502935420744%\n",
      "340 136-0.png 22.17873450750163%\n",
      "\n",
      "************************************************\n",
      "Slant determined to be straight.\n"
     ]
    },
    {
     "name": "stdin",
     "output_type": "stream",
     "text": [
      "Press enter if okay, else enter c to change:  \n"
     ]
    },
    {
     "name": "stdout",
     "output_type": "stream",
     "text": [
      "No Change!\n",
      "************************************************\n",
      "\n",
      "341 137-0.png 22.243966079582517%\n",
      "\n",
      "************************************************\n",
      "Slant determined to be irregular.\n"
     ]
    },
    {
     "name": "stdin",
     "output_type": "stream",
     "text": [
      "Press enter if okay, else enter c to change:  \n"
     ]
    },
    {
     "name": "stdout",
     "output_type": "stream",
     "text": [
      "No Change!\n",
      "************************************************\n",
      "\n",
      "342 138-0.png 22.309197651663403%\n",
      "343 139-0.png 22.374429223744293%\n",
      "\n",
      "************************************************\n",
      "Slant determined to be straight.\n"
     ]
    },
    {
     "name": "stdin",
     "output_type": "stream",
     "text": [
      "Press enter if okay, else enter c to change:  \n"
     ]
    },
    {
     "name": "stdout",
     "output_type": "stream",
     "text": [
      "No Change!\n",
      "************************************************\n",
      "\n",
      "344 139-1.png 22.43966079582518%\n",
      "\n",
      "************************************************\n",
      "Slant determined to be irregular.\n"
     ]
    },
    {
     "name": "stdin",
     "output_type": "stream",
     "text": [
      "Press enter if okay, else enter c to change:  \n"
     ]
    },
    {
     "name": "stdout",
     "output_type": "stream",
     "text": [
      "No Change!\n",
      "************************************************\n",
      "\n",
      "345 140-0.png 22.504892367906066%\n",
      "\n",
      "************************************************\n",
      "Slant determined to be straight.\n"
     ]
    },
    {
     "name": "stdin",
     "output_type": "stream",
     "text": [
      "Press enter if okay, else enter c to change:  \n"
     ]
    },
    {
     "name": "stdout",
     "output_type": "stream",
     "text": [
      "No Change!\n",
      "************************************************\n",
      "\n",
      "346 140-1.png 22.570123939986953%\n",
      "347 141-0.png 22.63535551206784%\n",
      "348 142-0.png 22.70058708414873%\n",
      "349 143-0.png 22.765818656229616%\n",
      "350 144-0.png 22.831050228310502%\n",
      "351 145-0.png 22.89628180039139%\n",
      "352 146-0.png 22.961513372472275%\n",
      "353 147-0.png 23.026744944553165%\n",
      "354 148-0.png 23.091976516634052%\n",
      "355 149-0.png 23.15720808871494%\n",
      "356 150-0.png 23.222439660795825%\n",
      "357 150-1.png 23.28767123287671%\n",
      "358 150-2.png 23.352902804957598%\n",
      "359 150-3.png 23.418134377038488%\n",
      "\n",
      "************************************************\n",
      "Slant determined to be straight.\n"
     ]
    },
    {
     "name": "stdin",
     "output_type": "stream",
     "text": [
      "Press enter if okay, else enter c to change:  \n"
     ]
    },
    {
     "name": "stdout",
     "output_type": "stream",
     "text": [
      "No Change!\n",
      "************************************************\n",
      "\n",
      "360 150-4.png 23.483365949119374%\n",
      "361 150-5.png 23.54859752120026%\n",
      "362 150-6.png 23.613829093281147%\n",
      "363 150-7.png 23.679060665362034%\n",
      "364 150-8.png 23.744292237442924%\n",
      "365 150-9.png 23.80952380952381%\n",
      "366 151-0.png 23.874755381604697%\n",
      "367 151-1.png 23.939986953685583%\n",
      "368 151-10.png 24.00521852576647%\n",
      "369 151-2.png 24.07045009784736%\n",
      "370 151-3.png 24.135681669928246%\n",
      "371 151-4.png 24.200913242009133%\n",
      "372 151-5.png 24.26614481409002%\n",
      "373 151-6.png 24.331376386170906%\n",
      "374 151-7.png 24.396607958251796%\n",
      "375 151-8.png 24.461839530332682%\n",
      "376 152-0.png 24.52707110241357%\n",
      "377 152-1.png 24.592302674494455%\n",
      "378 152-2.png 24.65753424657534%\n",
      "379 152-3.png 24.722765818656228%\n",
      "380 152-4.png 24.787997390737118%\n",
      "381 152-5.png 24.853228962818005%\n",
      "382 152-6.png 24.91846053489889%\n",
      "383 152-7.png 24.983692106979777%\n",
      "384 152-8.png 25.048923679060664%\n",
      "385 152-9.png 25.114155251141554%\n",
      "386 153-0.png 25.17938682322244%\n",
      "387 153-1.png 25.244618395303327%\n",
      "388 153-2.png 25.309849967384213%\n",
      "389 153-3.png 25.3750815394651%\n",
      "390 153-4.png 25.44031311154599%\n",
      "391 153-5.png 25.505544683626876%\n",
      "392 153-6.png 25.570776255707763%\n",
      "393 153-7.png 25.63600782778865%\n",
      "394 153-8.png 25.701239399869536%\n",
      "395 153-9.png 25.766470971950422%\n",
      "396 154-0.png 25.831702544031312%\n",
      "397 154-1.png 25.8969341161122%\n",
      "398 154-2.png 25.962165688193085%\n",
      "399 154-3.png 26.027397260273972%\n",
      "400 154-4.png 26.09262883235486%\n",
      "401 154-5.png 26.15786040443575%\n",
      "402 154-6.png 26.223091976516635%\n",
      "403 154-7.png 26.28832354859752%\n",
      "404 154-8.png 26.353555120678408%\n",
      "405 154-9.png 26.418786692759294%\n",
      "406 155-0.png 26.484018264840184%\n",
      "407 155-1.png 26.54924983692107%\n",
      "408 155-2.png 26.614481409001957%\n",
      "409 155-3.png 26.679712981082844%\n",
      "410 155-4.png 26.74494455316373%\n",
      "411 155-5.png 26.810176125244617%\n",
      "412 155-6.png 26.875407697325507%\n",
      "413 155-7.png 26.940639269406393%\n",
      "414 155-8.png 27.00587084148728%\n",
      "415 156-0.png 27.071102413568166%\n",
      "416 157-0.png 27.136333985649053%\n",
      "\n",
      "************************************************\n",
      "Slant determined to be straight.\n"
     ]
    },
    {
     "name": "stdin",
     "output_type": "stream",
     "text": [
      "Press enter if okay, else enter c to change:  \n"
     ]
    },
    {
     "name": "stdout",
     "output_type": "stream",
     "text": [
      "No Change!\n",
      "************************************************\n",
      "\n",
      "417 157-1.png 27.201565557729943%\n",
      "\n",
      "************************************************\n",
      "Slant determined to be irregular.\n"
     ]
    },
    {
     "name": "stdin",
     "output_type": "stream",
     "text": [
      "Press enter if okay, else enter c to change:  \n"
     ]
    },
    {
     "name": "stdout",
     "output_type": "stream",
     "text": [
      "No Change!\n",
      "************************************************\n",
      "\n",
      "418 158-0.png 27.26679712981083%\n",
      "\n",
      "************************************************\n",
      "Slant determined to be irregular.\n"
     ]
    },
    {
     "name": "stdin",
     "output_type": "stream",
     "text": [
      "Press enter if okay, else enter c to change:  \n"
     ]
    },
    {
     "name": "stdout",
     "output_type": "stream",
     "text": [
      "No Change!\n",
      "************************************************\n",
      "\n",
      "419 158-1.png 27.332028701891716%\n",
      "420 158-2.png 27.397260273972602%\n",
      "\n",
      "************************************************\n",
      "Slant determined to be irregular.\n"
     ]
    },
    {
     "name": "stdin",
     "output_type": "stream",
     "text": [
      "Press enter if okay, else enter c to change:  \n"
     ]
    },
    {
     "name": "stdout",
     "output_type": "stream",
     "text": [
      "No Change!\n",
      "************************************************\n",
      "\n",
      "421 159-0.png 27.46249184605349%\n",
      "\n",
      "************************************************\n",
      "Slant determined to be straight.\n"
     ]
    },
    {
     "name": "stdin",
     "output_type": "stream",
     "text": [
      "Press enter if okay, else enter c to change:  \n"
     ]
    },
    {
     "name": "stdout",
     "output_type": "stream",
     "text": [
      "No Change!\n",
      "************************************************\n",
      "\n",
      "422 159-1.png 27.52772341813438%\n",
      "423 160-0.png 27.592954990215265%\n",
      "424 160-1.png 27.65818656229615%\n",
      "\n",
      "************************************************\n",
      "Slant determined to be irregular.\n"
     ]
    },
    {
     "name": "stdin",
     "output_type": "stream",
     "text": [
      "Press enter if okay, else enter c to change:  \n"
     ]
    },
    {
     "name": "stdout",
     "output_type": "stream",
     "text": [
      "No Change!\n",
      "************************************************\n",
      "\n",
      "425 161-0.png 27.723418134377038%\n",
      "\n",
      "************************************************\n",
      "Slant determined to be irregular.\n"
     ]
    },
    {
     "name": "stdin",
     "output_type": "stream",
     "text": [
      "Press enter if okay, else enter c to change:  \n"
     ]
    },
    {
     "name": "stdout",
     "output_type": "stream",
     "text": [
      "No Change!\n",
      "************************************************\n",
      "\n",
      "426 161-1.png 27.788649706457925%\n",
      "427 162-0.png 27.85388127853881%\n",
      "428 162-1.png 27.9191128506197%\n",
      "429 163-0.png 27.984344422700588%\n",
      "\n",
      "************************************************\n",
      "Slant determined to be straight.\n"
     ]
    },
    {
     "name": "stdin",
     "output_type": "stream",
     "text": [
      "Press enter if okay, else enter c to change:  \n"
     ]
    },
    {
     "name": "stdout",
     "output_type": "stream",
     "text": [
      "No Change!\n",
      "************************************************\n",
      "\n",
      "430 163-1.png 28.049575994781474%\n",
      "\n",
      "************************************************\n",
      "Slant determined to be straight.\n"
     ]
    },
    {
     "name": "stdin",
     "output_type": "stream",
     "text": [
      "Press enter if okay, else enter c to change:  \n"
     ]
    },
    {
     "name": "stdout",
     "output_type": "stream",
     "text": [
      "No Change!\n",
      "************************************************\n",
      "\n",
      "431 164-0.png 28.11480756686236%\n",
      "\n",
      "************************************************\n",
      "Slant determined to be irregular.\n"
     ]
    },
    {
     "name": "stdin",
     "output_type": "stream",
     "text": [
      "Press enter if okay, else enter c to change:  \n"
     ]
    },
    {
     "name": "stdout",
     "output_type": "stream",
     "text": [
      "No Change!\n",
      "************************************************\n",
      "\n",
      "432 164-1.png 28.180039138943247%\n",
      "\n",
      "************************************************\n",
      "Slant determined to be irregular.\n"
     ]
    },
    {
     "name": "stdin",
     "output_type": "stream",
     "text": [
      "Press enter if okay, else enter c to change:  \n"
     ]
    },
    {
     "name": "stdout",
     "output_type": "stream",
     "text": [
      "No Change!\n",
      "************************************************\n",
      "\n",
      "433 165-0.png 28.245270711024137%\n",
      "\n",
      "************************************************\n",
      "Slant determined to be irregular.\n"
     ]
    },
    {
     "name": "stdin",
     "output_type": "stream",
     "text": [
      "Press enter if okay, else enter c to change:  \n"
     ]
    },
    {
     "name": "stdout",
     "output_type": "stream",
     "text": [
      "No Change!\n",
      "************************************************\n",
      "\n",
      "434 165-1.png 28.310502283105023%\n",
      "\n",
      "************************************************\n",
      "Slant determined to be irregular.\n"
     ]
    },
    {
     "name": "stdin",
     "output_type": "stream",
     "text": [
      "Press enter if okay, else enter c to change:  \n"
     ]
    },
    {
     "name": "stdout",
     "output_type": "stream",
     "text": [
      "No Change!\n",
      "************************************************\n",
      "\n",
      "435 166-0.png 28.37573385518591%\n",
      "\n",
      "************************************************\n",
      "Slant determined to be irregular.\n"
     ]
    },
    {
     "name": "stdin",
     "output_type": "stream",
     "text": [
      "Press enter if okay, else enter c to change:  \n"
     ]
    },
    {
     "name": "stdout",
     "output_type": "stream",
     "text": [
      "No Change!\n",
      "************************************************\n",
      "\n",
      "436 166-1.png 28.440965427266796%\n",
      "437 167-0.png 28.506196999347683%\n",
      "\n",
      "************************************************\n",
      "Slant determined to be irregular.\n"
     ]
    },
    {
     "name": "stdin",
     "output_type": "stream",
     "text": [
      "Press enter if okay, else enter c to change:  \n"
     ]
    },
    {
     "name": "stdout",
     "output_type": "stream",
     "text": [
      "No Change!\n",
      "************************************************\n",
      "\n",
      "438 168-0.png 28.571428571428573%\n",
      "\n",
      "************************************************\n",
      "Slant determined to be irregular.\n"
     ]
    },
    {
     "name": "stdin",
     "output_type": "stream",
     "text": [
      "Press enter if okay, else enter c to change:  \n"
     ]
    },
    {
     "name": "stdout",
     "output_type": "stream",
     "text": [
      "No Change!\n",
      "************************************************\n",
      "\n",
      "439 168-1.png 28.63666014350946%\n",
      "440 169-0.png 28.701891715590346%\n",
      "441 169-1.png 28.767123287671232%\n",
      "442 170-0.png 28.83235485975212%\n",
      "443 170-1.png 28.89758643183301%\n",
      "\n",
      "************************************************\n",
      "Slant determined to be straight.\n"
     ]
    },
    {
     "name": "stdin",
     "output_type": "stream",
     "text": [
      "Press enter if okay, else enter c to change:  \n"
     ]
    },
    {
     "name": "stdout",
     "output_type": "stream",
     "text": [
      "No Change!\n",
      "************************************************\n",
      "\n",
      "444 171-0.png 28.962818003913895%\n",
      "445 171-1.png 29.028049575994782%\n",
      "446 172-0.png 29.09328114807567%\n",
      "\n",
      "************************************************\n",
      "Slant determined to be irregular.\n"
     ]
    },
    {
     "name": "stdin",
     "output_type": "stream",
     "text": [
      "Press enter if okay, else enter c to change:  \n"
     ]
    },
    {
     "name": "stdout",
     "output_type": "stream",
     "text": [
      "No Change!\n",
      "************************************************\n",
      "\n",
      "447 172-1.png 29.158512720156555%\n",
      "448 173-0.png 29.22374429223744%\n",
      "449 173-1.png 29.28897586431833%\n",
      "450 173-2.png 29.354207436399218%\n",
      "451 173-3.png 29.419439008480104%\n",
      "452 173-4.png 29.48467058056099%\n",
      "453 174-0.png 29.549902152641877%\n",
      "454 174-1.png 29.615133724722767%\n",
      "455 174-2.png 29.680365296803654%\n",
      "\n",
      "************************************************\n",
      "Slant determined to be straight.\n"
     ]
    },
    {
     "name": "stdin",
     "output_type": "stream",
     "text": [
      "Press enter if okay, else enter c to change:  \n"
     ]
    },
    {
     "name": "stdout",
     "output_type": "stream",
     "text": [
      "No Change!\n",
      "************************************************\n",
      "\n",
      "456 174-3.png 29.74559686888454%\n",
      "457 174-4.png 29.810828440965427%\n",
      "\n",
      "************************************************\n",
      "Slant determined to be irregular.\n"
     ]
    },
    {
     "name": "stdin",
     "output_type": "stream",
     "text": [
      "Press enter if okay, else enter c to change:  \n"
     ]
    },
    {
     "name": "stdout",
     "output_type": "stream",
     "text": [
      "No Change!\n",
      "************************************************\n",
      "\n",
      "458 174-5.png 29.876060013046313%\n",
      "\n",
      "************************************************\n",
      "Slant determined to be straight.\n"
     ]
    },
    {
     "name": "stdin",
     "output_type": "stream",
     "text": [
      "Press enter if okay, else enter c to change:  \n"
     ]
    },
    {
     "name": "stdout",
     "output_type": "stream",
     "text": [
      "No Change!\n",
      "************************************************\n",
      "\n",
      "459 175-0.png 29.941291585127203%\n",
      "\n",
      "************************************************\n",
      "Slant determined to be straight.\n"
     ]
    },
    {
     "name": "stdin",
     "output_type": "stream",
     "text": [
      "Press enter if okay, else enter c to change:  \n"
     ]
    },
    {
     "name": "stdout",
     "output_type": "stream",
     "text": [
      "No Change!\n",
      "************************************************\n",
      "\n",
      "460 175-1.png 30.00652315720809%\n",
      "461 176-0.png 30.071754729288976%\n",
      "462 177-0.png 30.136986301369863%\n",
      "463 177-1.png 30.20221787345075%\n",
      "\n",
      "************************************************\n",
      "Slant determined to be straight.\n"
     ]
    },
    {
     "name": "stdin",
     "output_type": "stream",
     "text": [
      "Press enter if okay, else enter c to change:  \n"
     ]
    },
    {
     "name": "stdout",
     "output_type": "stream",
     "text": [
      "No Change!\n",
      "************************************************\n",
      "\n",
      "464 178-0.png 30.267449445531636%\n",
      "\n",
      "************************************************\n",
      "Slant determined to be straight.\n"
     ]
    },
    {
     "name": "stdin",
     "output_type": "stream",
     "text": [
      "Press enter if okay, else enter c to change:  \n"
     ]
    },
    {
     "name": "stdout",
     "output_type": "stream",
     "text": [
      "No Change!\n",
      "************************************************\n",
      "\n",
      "465 178-1.png 30.332681017612526%\n",
      "466 179-0.png 30.397912589693412%\n",
      "467 179-1.png 30.4631441617743%\n",
      "\n",
      "************************************************\n",
      "Slant determined to be straight.\n"
     ]
    },
    {
     "name": "stdin",
     "output_type": "stream",
     "text": [
      "Press enter if okay, else enter c to change:  \n"
     ]
    },
    {
     "name": "stdout",
     "output_type": "stream",
     "text": [
      "No Change!\n",
      "************************************************\n",
      "\n",
      "468 180-0.png 30.528375733855185%\n",
      "\n",
      "************************************************\n",
      "Slant determined to be irregular.\n"
     ]
    },
    {
     "name": "stdin",
     "output_type": "stream",
     "text": [
      "Press enter if okay, else enter c to change:  \n"
     ]
    },
    {
     "name": "stdout",
     "output_type": "stream",
     "text": [
      "No Change!\n",
      "************************************************\n",
      "\n",
      "469 180-1.png 30.59360730593607%\n",
      "470 181-0.png 30.65883887801696%\n",
      "471 181-1.png 30.724070450097848%\n",
      "472 181-2.png 30.789302022178735%\n",
      "473 182-0.png 30.85453359425962%\n",
      "474 183-0.png 30.919765166340508%\n",
      "475 184-0.png 30.984996738421398%\n",
      "476 184-1.png 31.050228310502284%\n",
      "477 185-0.png 31.11545988258317%\n",
      "478 185-1.png 31.180691454664057%\n",
      "\n",
      "************************************************\n",
      "Slant determined to be irregular.\n"
     ]
    },
    {
     "name": "stdin",
     "output_type": "stream",
     "text": [
      "Press enter if okay, else enter c to change:  \n"
     ]
    },
    {
     "name": "stdout",
     "output_type": "stream",
     "text": [
      "No Change!\n",
      "************************************************\n",
      "\n",
      "479 186-0.png 31.245923026744943%\n",
      "\n",
      "************************************************\n",
      "Slant determined to be irregular.\n"
     ]
    },
    {
     "name": "stdin",
     "output_type": "stream",
     "text": [
      "Press enter if okay, else enter c to change:  \n"
     ]
    },
    {
     "name": "stdout",
     "output_type": "stream",
     "text": [
      "No Change!\n",
      "************************************************\n",
      "\n",
      "480 186-1.png 31.31115459882583%\n",
      "481 187-0.png 31.37638617090672%\n",
      "482 187-1.png 31.441617742987606%\n",
      "\n",
      "************************************************\n",
      "Slant determined to be irregular.\n"
     ]
    },
    {
     "name": "stdin",
     "output_type": "stream",
     "text": [
      "Press enter if okay, else enter c to change:  \n"
     ]
    },
    {
     "name": "stdout",
     "output_type": "stream",
     "text": [
      "No Change!\n",
      "************************************************\n",
      "\n",
      "483 188-0.png 31.506849315068493%\n",
      "\n",
      "************************************************\n",
      "Slant determined to be irregular.\n"
     ]
    },
    {
     "name": "stdin",
     "output_type": "stream",
     "text": [
      "Press enter if okay, else enter c to change:  \n"
     ]
    },
    {
     "name": "stdout",
     "output_type": "stream",
     "text": [
      "No Change!\n",
      "************************************************\n",
      "\n",
      "484 188-1.png 31.57208088714938%\n",
      "\n",
      "************************************************\n",
      "Slant determined to be irregular.\n"
     ]
    },
    {
     "name": "stdin",
     "output_type": "stream",
     "text": [
      "Press enter if okay, else enter c to change:  \n"
     ]
    },
    {
     "name": "stdout",
     "output_type": "stream",
     "text": [
      "No Change!\n",
      "************************************************\n",
      "\n",
      "485 189-0.png 31.637312459230266%\n",
      "\n",
      "************************************************\n",
      "Slant determined to be irregular.\n"
     ]
    },
    {
     "name": "stdin",
     "output_type": "stream",
     "text": [
      "Press enter if okay, else enter c to change:  \n"
     ]
    },
    {
     "name": "stdout",
     "output_type": "stream",
     "text": [
      "No Change!\n",
      "************************************************\n",
      "\n",
      "486 190-0.png 31.702544031311156%\n",
      "\n",
      "************************************************\n",
      "Slant determined to be straight.\n"
     ]
    },
    {
     "name": "stdin",
     "output_type": "stream",
     "text": [
      "Press enter if okay, else enter c to change:  \n"
     ]
    },
    {
     "name": "stdout",
     "output_type": "stream",
     "text": [
      "No Change!\n",
      "************************************************\n",
      "\n",
      "487 190-1.png 31.767775603392042%\n",
      "488 191-0.png 31.83300717547293%\n",
      "\n",
      "************************************************\n",
      "Slant determined to be straight.\n"
     ]
    },
    {
     "name": "stdin",
     "output_type": "stream",
     "text": [
      "Press enter if okay, else enter c to change:  \n"
     ]
    },
    {
     "name": "stdout",
     "output_type": "stream",
     "text": [
      "No Change!\n",
      "************************************************\n",
      "\n",
      "489 192-0.png 31.898238747553815%\n",
      "\n",
      "************************************************\n",
      "Slant determined to be straight.\n"
     ]
    },
    {
     "name": "stdin",
     "output_type": "stream",
     "text": [
      "Press enter if okay, else enter c to change:  \n"
     ]
    },
    {
     "name": "stdout",
     "output_type": "stream",
     "text": [
      "No Change!\n",
      "************************************************\n",
      "\n",
      "490 192-1.png 31.963470319634702%\n",
      "491 193-0.png 32.02870189171559%\n",
      "492 193-1.png 32.093933463796475%\n",
      "\n",
      "************************************************\n",
      "Slant determined to be irregular.\n"
     ]
    },
    {
     "name": "stdin",
     "output_type": "stream",
     "text": [
      "Press enter if okay, else enter c to change:  \n"
     ]
    },
    {
     "name": "stdout",
     "output_type": "stream",
     "text": [
      "No Change!\n",
      "************************************************\n",
      "\n",
      "493 193-2.png 32.159165035877365%\n",
      "\n",
      "************************************************\n",
      "Slant determined to be irregular.\n"
     ]
    },
    {
     "name": "stdin",
     "output_type": "stream",
     "text": [
      "Press enter if okay, else enter c to change:  \n"
     ]
    },
    {
     "name": "stdout",
     "output_type": "stream",
     "text": [
      "No Change!\n",
      "************************************************\n",
      "\n",
      "494 193-3.png 32.224396607958255%\n",
      "\n",
      "************************************************\n",
      "Slant determined to be straight.\n"
     ]
    },
    {
     "name": "stdin",
     "output_type": "stream",
     "text": [
      "Press enter if okay, else enter c to change:  \n"
     ]
    },
    {
     "name": "stdout",
     "output_type": "stream",
     "text": [
      "No Change!\n",
      "************************************************\n",
      "\n",
      "495 194-0.png 32.28962818003914%\n",
      "496 194-1.png 32.35485975212003%\n",
      "497 195-0.png 32.42009132420091%\n",
      "498 195-1.png 32.4853228962818%\n",
      "\n",
      "************************************************\n",
      "Slant determined to be irregular.\n"
     ]
    },
    {
     "name": "stdin",
     "output_type": "stream",
     "text": [
      "Press enter if okay, else enter c to change:  \n"
     ]
    },
    {
     "name": "stdout",
     "output_type": "stream",
     "text": [
      "No Change!\n",
      "************************************************\n",
      "\n",
      "499 196-0.png 32.55055446836269%\n",
      "\n",
      "************************************************\n",
      "Slant determined to be straight.\n"
     ]
    },
    {
     "name": "stdin",
     "output_type": "stream",
     "text": [
      "Press enter if okay, else enter c to change:  \n"
     ]
    },
    {
     "name": "stdout",
     "output_type": "stream",
     "text": [
      "No Change!\n",
      "************************************************\n",
      "\n",
      "500 197-0.png 32.615786040443574%\n",
      "\n",
      "************************************************\n",
      "Slant determined to be straight.\n"
     ]
    },
    {
     "name": "stdin",
     "output_type": "stream",
     "text": [
      "Press enter if okay, else enter c to change:  \n"
     ]
    },
    {
     "name": "stdout",
     "output_type": "stream",
     "text": [
      "No Change!\n",
      "************************************************\n",
      "\n",
      "501 197-1.png 32.681017612524464%\n",
      "502 198-0.png 32.74624918460535%\n",
      "503 198-1.png 32.81148075668624%\n",
      "504 199-0.png 32.87671232876713%\n",
      "505 199-1.png 32.94194390084801%\n",
      "506 199-2.png 33.0071754729289%\n",
      "507 199-3.png 33.07240704500978%\n",
      "\n",
      "************************************************\n",
      "Slant determined to be straight.\n"
     ]
    },
    {
     "name": "stdin",
     "output_type": "stream",
     "text": [
      "Press enter if okay, else enter c to change:  \n"
     ]
    },
    {
     "name": "stdout",
     "output_type": "stream",
     "text": [
      "No Change!\n",
      "************************************************\n",
      "\n",
      "508 200-0.png 33.13763861709067%\n",
      "509 201-0.png 33.202870189171556%\n",
      "510 202-0.png 33.268101761252446%\n",
      "\n",
      "************************************************\n",
      "Slant determined to be straight.\n"
     ]
    },
    {
     "name": "stdin",
     "output_type": "stream",
     "text": [
      "Press enter if okay, else enter c to change:  \n"
     ]
    },
    {
     "name": "stdout",
     "output_type": "stream",
     "text": [
      "No Change!\n",
      "************************************************\n",
      "\n",
      "511 202-1.png 33.333333333333336%\n",
      "512 202-2.png 33.39856490541422%\n",
      "513 202-3.png 33.46379647749511%\n",
      "514 202-4.png 33.52902804957599%\n",
      "515 203-0.png 33.59425962165688%\n",
      "516 203-1.png 33.65949119373777%\n",
      "517 203-2.png 33.724722765818655%\n",
      "518 203-3.png 33.789954337899545%\n",
      "519 203-4.png 33.85518590998043%\n",
      "520 204-0.png 33.92041748206132%\n",
      "521 204-1.png 33.98564905414221%\n",
      "522 204-3.png 34.05088062622309%\n",
      "523 204-4.png 34.11611219830398%\n",
      "524 204-5.png 34.18134377038486%\n",
      "525 205-0.png 34.24657534246575%\n",
      "526 205-1.png 34.311806914546644%\n",
      "527 205-2.png 34.37703848662753%\n",
      "528 205-3.png 34.44227005870842%\n",
      "529 205-4.png 34.5075016307893%\n",
      "530 206-0.png 34.57273320287019%\n",
      "531 206-1.png 34.63796477495108%\n",
      "532 206-2.png 34.70319634703196%\n",
      "533 206-3.png 34.76842791911285%\n",
      "534 206-4.png 34.833659491193735%\n",
      "535 207-0.png 34.898891063274625%\n",
      "536 207-1.png 34.964122635355515%\n",
      "\n",
      "************************************************\n",
      "Slant determined to be irregular.\n"
     ]
    },
    {
     "name": "stdin",
     "output_type": "stream",
     "text": [
      "Press enter if okay, else enter c to change:  \n"
     ]
    },
    {
     "name": "stdout",
     "output_type": "stream",
     "text": [
      "No Change!\n",
      "************************************************\n",
      "\n",
      "537 207-2.png 35.0293542074364%\n",
      "538 207-3.png 35.09458577951729%\n",
      "539 207-4.png 35.15981735159817%\n",
      "540 207-5.png 35.22504892367906%\n",
      "541 208-0.png 35.290280495759944%\n",
      "\n",
      "************************************************\n",
      "Slant determined to be straight.\n"
     ]
    },
    {
     "name": "stdin",
     "output_type": "stream",
     "text": [
      "Press enter if okay, else enter c to change:  \n"
     ]
    },
    {
     "name": "stdout",
     "output_type": "stream",
     "text": [
      "No Change!\n",
      "************************************************\n",
      "\n",
      "542 208-1.png 35.355512067840834%\n",
      "543 208-2.png 35.420743639921724%\n",
      "\n",
      "************************************************\n",
      "Slant determined to be straight.\n"
     ]
    }
   ],
   "source": [
    "import os\n",
    "import extract_v3\n",
    "\n",
    "os.chdir(r\"C:\\Users\\parth\\Downloads\\images\\images\")\n",
    "files = [f for f in os.listdir('.') if os.path.isfile(f)]\n",
    "os.chdir(\"..\")\n",
    "\n",
    "page_ids = []\n",
    "if os.path.isfile(\"raw_feature_list\"):\n",
    "    print(\"Info: raw_feature_list already exists.\")\n",
    "    with open(\"raw_feature_list\", \"r\") as label:\n",
    "        for line in label:\n",
    "            content = line.split()\n",
    "            page_id = content[-1]\n",
    "            page_ids.append(page_id)\n",
    "\n",
    "with open(\"raw_feature_list\", \"a\") as label:\n",
    "    count = len(page_ids)\n",
    "    for file_name in files:\n",
    "        if (file_name in page_ids):\n",
    "            continue\n",
    "        features = extract_v3.start(file_name)\n",
    "        features.append(file_name)\n",
    "        for i in features:\n",
    "            label.write(\"%s\\t\" % i)\n",
    "        print('', file=label)\n",
    "        count += 1\n",
    "        progress = (count*100)/len(files)\n",
    "        print (str(count)+' '+file_name+' '+str(progress)+'%')\n",
    "    print (\"Done!\")"
   ]
  },
  {
   "cell_type": "code",
   "execution_count": null,
   "id": "6194eac5-d745-4f5d-874b-1fc2f5fa5be5",
   "metadata": {},
   "outputs": [],
   "source": []
  }
 ],
 "metadata": {
  "kernelspec": {
   "display_name": "Python 3 (ipykernel)",
   "language": "python",
   "name": "python3"
  },
  "language_info": {
   "codemirror_mode": {
    "name": "ipython",
    "version": 3
   },
   "file_extension": ".py",
   "mimetype": "text/x-python",
   "name": "python",
   "nbconvert_exporter": "python",
   "pygments_lexer": "ipython3",
   "version": "3.11.2"
  }
 },
 "nbformat": 4,
 "nbformat_minor": 5
}
