{
 "cells": [
  {
   "cell_type": "code",
   "execution_count": 5,
   "id": "077eb683-c242-4323-92fc-8278c347305f",
   "metadata": {},
   "outputs": [
    {
     "name": "stdout",
     "output_type": "stream",
     "text": [
      "Info: raw_feature_list found.\n",
      "Skipping incomplete line: 45.05\n",
      "Done!\n"
     ]
    }
   ],
   "source": [
    "import os\n",
    "import categorize\n",
    "\n",
    "# Paths to the files\n",
    "raw_feature_list_path = r\"C:\\Users\\parth\\OneDrive\\Desktop\\IBM_Work\\New folder\\raw_feature_list\"\n",
    "feature_list_path = r\"C:\\Users\\parth\\OneDrive\\Desktop\\IBM_Work\\New folder\\feature_list\"\n",
    "\n",
    "if os.path.isfile(feature_list_path):\n",
    "    print(\"Error: feature_list already exists.\")\n",
    "elif os.path.isfile(raw_feature_list_path):\n",
    "    print(\"Info: raw_feature_list found.\")\n",
    "    with open(raw_feature_list_path, \"r\") as raw_features, open(feature_list_path, \"a\") as features:\n",
    "        for line in raw_features:\n",
    "            content = line.split()\n",
    "\n",
    "            # Ensure the line has the expected number of elements\n",
    "            if len(content) < 8:\n",
    "                print(f\"Skipping incomplete line: {line.strip()}\")\n",
    "                continue\n",
    "\n",
    "            raw_baseline_angle = float(content[0])\n",
    "            raw_top_margin = float(content[1])\n",
    "            raw_letter_size = float(content[2])\n",
    "            raw_line_spacing = float(content[3])\n",
    "            raw_word_spacing = float(content[4])\n",
    "            raw_pen_pressure = float(content[5])\n",
    "            raw_slant_angle = float(content[6])\n",
    "            page_id = content[7]\n",
    "\n",
    "            baseline_angle, comment = categorize.determine_baseline_angle(raw_baseline_angle)\n",
    "            top_margin, comment = categorize.determine_top_margin(raw_top_margin)\n",
    "            letter_size, comment = categorize.determine_letter_size(raw_letter_size)\n",
    "            line_spacing, comment = categorize.determine_line_spacing(raw_line_spacing)\n",
    "            word_spacing, comment = categorize.determine_word_spacing(raw_word_spacing)\n",
    "            pen_pressure, comment = categorize.determine_pen_pressure(raw_pen_pressure)\n",
    "            slant_angle, comment = categorize.determine_slant_angle(raw_slant_angle)\n",
    "\n",
    "            features.write(\"%s\\t%s\\t%s\\t%s\\t%s\\t%s\\t%s\\t%s\\n\" % (\n",
    "                str(baseline_angle),\n",
    "                str(top_margin),\n",
    "                str(letter_size),\n",
    "                str(line_spacing),\n",
    "                str(word_spacing),\n",
    "                str(pen_pressure),\n",
    "                str(slant_angle),\n",
    "                str(page_id)\n",
    "            ))\n",
    "\n",
    "    print(\"Done!\")\n",
    "else:\n",
    "    print(\"Error: raw_feature_list file not found.\")\n"
   ]
  },
  {
   "cell_type": "code",
   "execution_count": null,
   "id": "700cdfbb-ae8b-4f08-bcdc-2a8cd271d49a",
   "metadata": {},
   "outputs": [],
   "source": []
  }
 ],
 "metadata": {
  "kernelspec": {
   "display_name": "Python 3 (ipykernel)",
   "language": "python",
   "name": "python3"
  },
  "language_info": {
   "codemirror_mode": {
    "name": "ipython",
    "version": 3
   },
   "file_extension": ".py",
   "mimetype": "text/x-python",
   "name": "python",
   "nbconvert_exporter": "python",
   "pygments_lexer": "ipython3",
   "version": "3.11.2"
  }
 },
 "nbformat": 4,
 "nbformat_minor": 5
}
